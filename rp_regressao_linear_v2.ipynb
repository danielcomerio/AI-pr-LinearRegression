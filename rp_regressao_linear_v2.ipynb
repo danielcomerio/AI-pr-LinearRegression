{
  "nbformat": 4,
  "nbformat_minor": 0,
  "metadata": {
    "colab": {
      "name": "rp-regressao_linear-v2.ipynb",
      "provenance": [],
      "collapsed_sections": []
    },
    "kernelspec": {
      "name": "python3",
      "display_name": "Python 3"
    },
    "language_info": {
      "name": "python"
    }
  },
  "cells": [
    {
      "cell_type": "code",
      "execution_count": 99,
      "metadata": {
        "id": "so8vZ27uL2MC"
      },
      "outputs": [],
      "source": [
        "# Import the packages and classes needed for this example:\n",
        "import matplotlib.pyplot as plt\n",
        "import numpy as np\n",
        "import torch\n",
        "import csv\n",
        "from sklearn.model_selection import train_test_split\n",
        "from sklearn.linear_model import LinearRegression\n",
        "from sklearn.metrics import mean_squared_error"
      ]
    },
    {
      "cell_type": "code",
      "source": [
        "from sklearn.utils import shuffle\n",
        "# Load data, and plot it with matplotlib:\n",
        "\n",
        "file = open(\"winequality-red.csv\")\n",
        "csvreader = csv.reader(file)\n",
        "header = next(csvreader)\n",
        "#print(header)\n",
        "\n",
        "X, y = [], []\n",
        "for row in csvreader:\n",
        "  y.append(row.pop(-1))\n",
        "  X.append(row)\n",
        "file.close()\n",
        "\n",
        "X = np.array(X, dtype=float)\n",
        "y = np.array(y, dtype=float)\n",
        "\n",
        "X_train, X_test, y_train, y_test = train_test_split(X, y, \n",
        "                                                    test_size=0.20,\n",
        "                                                    random_state=42,\n",
        "                                                    shuffle=True,\n",
        "                                                    stratify=y)\n",
        "\n",
        "# for i in range(len(X_train[0])): # number of features\n",
        "#   X_feature = [features[i] for features in X_train]\n",
        "\n",
        "#   plt.title(f\"{header[i]}\")\n",
        "#   plt.xlabel(\"x\")\n",
        "#   plt.ylabel(\"y\")\n",
        "#   plt.scatter(X_feature, y_train);\n",
        "#   plt.show()"
      ],
      "metadata": {
        "id": "nyZZiVGvL8VC"
      },
      "execution_count": 100,
      "outputs": []
    },
    {
      "cell_type": "code",
      "source": [
        "# Create a linear regression model based the positioning of the data and Intercept, and predict a Best Fit:\n",
        "model = LinearRegression(fit_intercept=True)\n",
        "model.fit(X_train, y_train);"
      ],
      "metadata": {
        "id": "ChGeFmF4L8ZM"
      },
      "execution_count": 101,
      "outputs": []
    },
    {
      "cell_type": "code",
      "source": [
        "# Calculating mse of each intercept in the interval (intercept +- delta)\n",
        "delta = 8\n",
        "intercept_base = model.intercept_\n",
        "intercept_variance = np.linspace(intercept_base-delta, intercept_base+delta, num=32)\n",
        "\n",
        "mse_values = []\n",
        "for intercept in intercept_variance:\n",
        "  model.intercept_ = intercept\n",
        "  y_pred = model.predict(X_test)\n",
        "\n",
        "  mse = mean_squared_error(y_test, y_pred)\n",
        "  mse_values.append(mse)\n",
        "\n",
        "mse_values = torch.tensor(mse_values)\n",
        "\n",
        "plt.plot(intercept_variance, mse_values);\n",
        "plt.show()"
      ],
      "metadata": {
        "colab": {
          "base_uri": "https://localhost:8080/",
          "height": 265
        },
        "id": "iUy1sB5VL9xk",
        "outputId": "04561ba2-10ce-46b2-d20d-94aad390e0da"
      },
      "execution_count": 102,
      "outputs": [
        {
          "output_type": "display_data",
          "data": {
            "text/plain": [
              "<Figure size 432x288 with 1 Axes>"
            ],
            "image/png": "[encoded data removed]"
          },
          "metadata": {
            "needs_background": "light"
          }
        }
      ]
    }
  ]
}