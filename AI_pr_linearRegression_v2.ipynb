{
  "nbformat": 4,
  "nbformat_minor": 0,
  "metadata": {
    "colab": {
      "name": "AI-pr-linearRegression-v2.ipynb",
      "provenance": [],
      "collapsed_sections": []
    },
    "kernelspec": {
      "name": "python3",
      "display_name": "Python 3"
    },
    "language_info": {
      "name": "python"
    }
  },
  "cells": [
    {
      "cell_type": "code",
      "execution_count": 21,
      "metadata": {
        "id": "so8vZ27uL2MC"
      },
      "outputs": [],
      "source": [
        "# Import the packages and classes needed for this example:\n",
        "import matplotlib.pyplot as plt\n",
        "import numpy as np\n",
        "import torch\n",
        "import csv\n",
        "\n",
        "from sklearn.model_selection import train_test_split\n",
        "from sklearn.linear_model import LinearRegression\n",
        "from sklearn.metrics import mean_squared_error"
      ]
    },
    {
      "cell_type": "code",
      "source": [
        "# Load data, and plot it with matplotlib:\n",
        "file = open(\"winequality-red.csv\")\n",
        "csvreader = csv.reader(file)\n",
        "header = next(csvreader)\n",
        "#print(header)\n",
        "\n",
        "X, y = [], []\n",
        "for row in csvreader:\n",
        "  y.append(row.pop(-1))\n",
        "  X.append(row)\n",
        "file.close()\n",
        "\n",
        "X = np.array(X, dtype=float)\n",
        "y = np.array(y, dtype=float)\n",
        "\n",
        "# for i in range(len(X_train[0])): # number of features\n",
        "#   X_feature = [features[i] for features in X_train]\n",
        "\n",
        "#   plt.title(f\"{header[i]}\")\n",
        "#   plt.xlabel(\"x\")\n",
        "#   plt.ylabel(\"y\")\n",
        "#   plt.scatter(X_feature, y_train);\n",
        "#   plt.show()"
      ],
      "metadata": {
        "id": "nyZZiVGvL8VC"
      },
      "execution_count": 22,
      "outputs": []
    },
    {
      "cell_type": "code",
      "source": [
        "# Create a linear regression model based the positioning of the data and Intercept, and predict a Best Fit:\n",
        "model = LinearRegression(fit_intercept=True)\n",
        "model.fit(X, y);"
      ],
      "metadata": {
        "id": "ChGeFmF4L8ZM"
      },
      "execution_count": 23,
      "outputs": []
    },
    {
      "cell_type": "code",
      "source": [
        "# Calculating mse of each intercept in the interval (intercept +- delta)\n",
        "delta = 8\n",
        "intercept_base = model.intercept_\n",
        "intercept_variance = np.linspace(intercept_base-delta, intercept_base+delta, num=32)\n",
        "\n",
        "mse_values = []\n",
        "for intercept in intercept_variance:\n",
        "  model.intercept_ = intercept\n",
        "  y_pred = model.predict(X)\n",
        "\n",
        "  mse = mean_squared_error(y, y_pred)\n",
        "  mse_values.append(mse)\n",
        "\n",
        "mse_values = torch.tensor(mse_values)\n",
        "\n",
        "plt.plot(intercept_variance, mse_values);\n",
        "plt.show()"
      ],
      "metadata": {
        "id": "iUy1sB5VL9xk",
        "colab": {
          "base_uri": "https://localhost:8080/",
          "height": 265
        },
        "outputId": "099ebd7c-174d-49b8-bf41-2f835ab9e695"
      },
      "execution_count": 24,
      "outputs": [
        {
          "output_type": "display_data",
          "data": {
            "text/plain": [
              "<Figure size 432x288 with 1 Axes>"
            ],
            "image/png": "[encoded data removed]"
          },
          "metadata": {
            "needs_background": "light"
          }
        }
      ]
    }
  ]
}